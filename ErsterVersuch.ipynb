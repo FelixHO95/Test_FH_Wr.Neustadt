{
  "nbformat": 4,
  "nbformat_minor": 0,
  "metadata": {
    "colab": {
      "provenance": [],
      "collapsed_sections": [],
      "authorship_tag": "ABX9TyNyc/NMIee5ziU/1UKbGYF6",
      "include_colab_link": true
    },
    "kernelspec": {
      "name": "python3",
      "display_name": "Python 3"
    },
    "language_info": {
      "name": "python"
    }
  },
  "cells": [
    {
      "cell_type": "markdown",
      "metadata": {
        "id": "view-in-github",
        "colab_type": "text"
      },
      "source": [
        "<a href=\"https://colab.research.google.com/github/FelixHO95/Test_FH_Wr.Neustadt/blob/main/ErsterVersuch.ipynb\" target=\"_parent\"><img src=\"https://colab.research.google.com/assets/colab-badge.svg\" alt=\"Open In Colab\"/></a>"
      ]
    },
    {
      "cell_type": "markdown",
      "source": [
        "**Das ist toll**"
      ],
      "metadata": {
        "id": "ZGDqKcrUEfIv"
      }
    },
    {
      "cell_type": "code",
      "execution_count": 3,
      "metadata": {
        "colab": {
          "base_uri": "https://localhost:8080/"
        },
        "id": "TSDR54vFDc3U",
        "outputId": "3b8d76cd-3cf4-45e9-842a-8f819beb9875"
      },
      "outputs": [
        {
          "output_type": "stream",
          "name": "stdout",
          "text": [
            "Hallo\n"
          ]
        }
      ],
      "source": [
        "print(\"Hallo\")"
      ]
    },
    {
      "cell_type": "code",
      "source": [
        "print(\"Hallo2\")"
      ],
      "metadata": {
        "colab": {
          "base_uri": "https://localhost:8080/"
        },
        "id": "6RjZ1a8ID-E4",
        "outputId": "15c44417-46e9-45ee-f897-755e0d3ba483"
      },
      "execution_count": 4,
      "outputs": [
        {
          "output_type": "stream",
          "name": "stdout",
          "text": [
            "Hallo2\n"
          ]
        }
      ]
    }
  ]
}